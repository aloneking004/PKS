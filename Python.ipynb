{
  "nbformat": 4,
  "nbformat_minor": 0,
  "metadata": {
    "colab": {
      "provenance": [],
      "authorship_tag": "ABX9TyP9ZP7vvE7PYLNrmPx4tWNK",
      "include_colab_link": true
    },
    "kernelspec": {
      "name": "python3",
      "display_name": "Python 3"
    },
    "language_info": {
      "name": "python"
    }
  },
  "cells": [
    {
      "cell_type": "markdown",
      "metadata": {
        "id": "view-in-github",
        "colab_type": "text"
      },
      "source": [
        "<a href=\"https://colab.research.google.com/github/aloneking004/PKS/blob/main/Python.ipynb\" target=\"_parent\"><img src=\"https://colab.research.google.com/assets/colab-badge.svg\" alt=\"Open In Colab\"/></a>"
      ]
    },
    {
      "cell_type": "code",
      "execution_count": null,
      "metadata": {
        "colab": {
          "base_uri": "https://localhost:8080/"
        },
        "id": "aQLQ278R7Gcq",
        "outputId": "3d8fc9f7-6850-477c-ae92-e49553396132"
      },
      "outputs": [
        {
          "output_type": "stream",
          "name": "stdout",
          "text": [
            "enter num15\n",
            "enter num25\n",
            "Sum of Number10\n"
          ]
        }
      ],
      "source": [
        "num=input(\"enter num1\")\n",
        "num2=input(\"enter num2\")\n",
        "sum=int(num)+int(num2)\n",
        "print(\"Sum of Number{0}\".format(sum))"
      ]
    },
    {
      "cell_type": "code",
      "source": [
        "string=\"qwerty     uiopasdf         \"\n",
        "print(string.count(\"qwer\"))\n",
        "print(string.isalpha())\n",
        "print(string.isalnum())\n",
        "print(string.upper())\n",
        "print(string.lower())\n",
        "print(string.strip())"
      ],
      "metadata": {
        "colab": {
          "base_uri": "https://localhost:8080/"
        },
        "id": "43jRbUbF6jJh",
        "outputId": "32d5a850-9e97-40ca-c9e1-8eeddbf70290"
      },
      "execution_count": null,
      "outputs": [
        {
          "output_type": "stream",
          "name": "stdout",
          "text": [
            "1\n",
            "False\n",
            "False\n",
            "QWERTY     UIOPASDF         \n",
            "qwerty     uiopasdf         \n",
            "qwerty     uiopasdf\n"
          ]
        }
      ]
    },
    {
      "cell_type": "code",
      "source": [
        "li=[1,2,3,4,5]\n",
        "li2=[2,3,4,5,6,7]\n",
        "li.extend(li2)\n",
        "print(li)\n",
        "li.insert(5,140)\n",
        "print(li)\n",
        "print(li.pop())\n",
        "\n"
      ],
      "metadata": {
        "colab": {
          "base_uri": "https://localhost:8080/"
        },
        "id": "dg75QeGDBjun",
        "outputId": "86c62af5-116f-4fe3-d017-deb8a46b2090"
      },
      "execution_count": null,
      "outputs": [
        {
          "output_type": "stream",
          "name": "stdout",
          "text": [
            "[1, 2, 3, 4, 5, 2, 3, 4, 5, 6, 7]\n",
            "[1, 2, 3, 4, 5, 140, 2, 3, 4, 5, 6, 7]\n",
            "7\n"
          ]
        }
      ]
    },
    {
      "cell_type": "code",
      "source": [
        "num1=int(input())\n",
        "num2=int(input())\n",
        "opr=input()\n",
        "if(opr=='+'):\n",
        "  print(num1+num2)\n",
        "elif(opr=='-'):\n",
        "  print(num1-num2)\n",
        "elif(opr=='*'):\n",
        "  print(num1*num2)\n",
        "else:\n",
        "  print(num1//num2)\n",
        "\n"
      ],
      "metadata": {
        "colab": {
          "base_uri": "https://localhost:8080/"
        },
        "id": "NQEe_XMBFS0_",
        "outputId": "8883c872-1ca9-4ea4-aef7-c91e3d23fed4"
      },
      "execution_count": null,
      "outputs": [
        {
          "output_type": "stream",
          "name": "stdout",
          "text": [
            "5\n",
            "10\n",
            "*\n",
            "50\n"
          ]
        }
      ]
    },
    {
      "cell_type": "code",
      "source": [
        "num=int(input())\n",
        "print('even : ',end=\" \")\n",
        "for i in range(1,num+1):\n",
        "  if(i%2==0):\n",
        "    print(i,end=\" \")\n",
        "print(\" \")\n",
        "print('odd : ',end=\" \")\n",
        "for i in range(num):\n",
        "  if(i%2!=0):\n",
        "    print(i,end=\" \")"
      ],
      "metadata": {
        "colab": {
          "base_uri": "https://localhost:8080/"
        },
        "id": "vFS3QrQMOd49",
        "outputId": "54ab8f79-c37d-4b20-e779-68d6ed82f015"
      },
      "execution_count": null,
      "outputs": [
        {
          "output_type": "stream",
          "name": "stdout",
          "text": [
            "10\n",
            "even :  2 4 6 8 10  \n",
            "odd :  1 3 5 7 9 "
          ]
        }
      ]
    },
    {
      "cell_type": "code",
      "source": [
        "n=int(input())\n",
        "count=0\n",
        "while(n!=0):\n",
        "  n=n//10\n",
        "  count=count+1\n",
        "print(count)\n"
      ],
      "metadata": {
        "colab": {
          "base_uri": "https://localhost:8080/"
        },
        "id": "dwXlWcbkSdFj",
        "outputId": "16d94cb5-d2e0-41ac-e15d-b4e5230cc230"
      },
      "execution_count": null,
      "outputs": [
        {
          "output_type": "stream",
          "name": "stdout",
          "text": [
            "12345\n",
            "5\n"
          ]
        }
      ]
    },
    {
      "cell_type": "code",
      "source": [
        "n=int(input())\n",
        "x=0\n",
        "while(n!=0):\n",
        "  x=(x*10)+n%10\n",
        "  n=n//10\n",
        "print(x,end=\" \")"
      ],
      "metadata": {
        "colab": {
          "base_uri": "https://localhost:8080/"
        },
        "id": "FJhEqoxsTGru",
        "outputId": "1aa0c734-93df-4f8b-d9b1-efbeeddc52dc"
      },
      "execution_count": null,
      "outputs": [
        {
          "output_type": "stream",
          "name": "stdout",
          "text": [
            "12345\n",
            "54321 "
          ]
        }
      ]
    },
    {
      "cell_type": "code",
      "source": [
        "def func(no):\n",
        "  x=0\n",
        "  sum=0\n",
        "  while(no!=0):\n",
        "    x=no%10;\n",
        "    sum=sum+x;\n",
        "    no=no//10\n",
        "  return sum\n",
        "n=int(input())\n",
        "mm=func(n)\n",
        "while(mm>10):\n",
        "    mm=func(mm)\n",
        "print(func(mm))\n",
        "\n"
      ],
      "metadata": {
        "colab": {
          "base_uri": "https://localhost:8080/"
        },
        "id": "QlSALFTYgiIr",
        "outputId": "0a6907f0-fd88-4407-b0c2-606dfda21f3e"
      },
      "execution_count": null,
      "outputs": [
        {
          "output_type": "stream",
          "name": "stdout",
          "text": [
            "98765987659\n",
            "7\n"
          ]
        }
      ]
    },
    {
      "cell_type": "code",
      "source": [
        "import math\n",
        "n=int(input())\n",
        "prime=True\n",
        "for i in range(2,int(math.sqrt(n))+1):\n",
        "  if(n%i==0):\n",
        "    prime=False\n",
        "print(\"prime\") if prime else print(\"not prime\")"
      ],
      "metadata": {
        "colab": {
          "base_uri": "https://localhost:8080/"
        },
        "id": "AupcRXEa54fU",
        "outputId": "8f7f2b9f-c5f5-4ed5-c8f8-6f9c6b7bcab6"
      },
      "execution_count": null,
      "outputs": [
        {
          "output_type": "stream",
          "name": "stdout",
          "text": [
            "1000000000000007\n",
            "not prime\n"
          ]
        }
      ]
    },
    {
      "cell_type": "code",
      "source": [
        "n=input()\n",
        "string=\"\"\n",
        "for i in n:\n",
        "  if(i.isalpha()):\n",
        "    string+=i\n",
        "x=len(string)\n",
        "for i in n:\n",
        "  if(not i.isalpha()):\n",
        "    print(i,end=\"\")\n",
        "  else:\n",
        "    print(string[x-1],end=\"\")\n",
        "    x-=1"
      ],
      "metadata": {
        "colab": {
          "base_uri": "https://localhost:8080/"
        },
        "id": "81ZLBPFZKHOn",
        "outputId": "0b91cbba-d502-40b7-84c3-fa672f5dbf95"
      },
      "execution_count": null,
      "outputs": [
        {
          "output_type": "stream",
          "name": "stdout",
          "text": [
            "12abc12zyxg\n",
            "12gxy12zcba"
          ]
        }
      ]
    },
    {
      "cell_type": "code",
      "source": [
        "list=input().split()\n",
        "# max=list[0]\n",
        "# for i in list:\n",
        "#   if i>max:\n",
        "#     max=i\n",
        "# print(max)\n",
        "list.sort()\n",
        "x=len(list)\n",
        "print(list[x-1])"
      ],
      "metadata": {
        "colab": {
          "base_uri": "https://localhost:8080/"
        },
        "id": "qDJcW2uYXO5R",
        "outputId": "a305c23e-86df-4d09-ce57-6ecdacc5cf70"
      },
      "execution_count": null,
      "outputs": [
        {
          "output_type": "stream",
          "name": "stdout",
          "text": [
            "1 2 4 \n",
            "4\n"
          ]
        }
      ]
    },
    {
      "cell_type": "code",
      "source": [
        "n=int(input())\n",
        "if n>=90:\n",
        "  print(\"A\")\n",
        "elif n>=80:\n",
        "  print(\"B\")\n",
        "elif n>=70:\n",
        "  print(\"C\")\n",
        "elif n>=60:\n",
        "  print(\"D\")\n",
        "else:\n",
        "  print(\"F\")"
      ],
      "metadata": {
        "colab": {
          "base_uri": "https://localhost:8080/"
        },
        "id": "Xdi9tCExZxBF",
        "outputId": "2401183f-dff1-4d68-9894-7240c516d83f"
      },
      "execution_count": null,
      "outputs": [
        {
          "output_type": "stream",
          "name": "stdout",
          "text": [
            "65\n",
            "D\n"
          ]
        }
      ]
    },
    {
      "cell_type": "code",
      "source": [
        "hr=int(input())\n",
        "if(hr==0):\n",
        "  print(\"Good Morning,it is 12 A.M\")\n",
        "if(hr==12):\n",
        "  print(\"Good Morning,it is 12 P.M\")\n",
        "if(hr>12):\n",
        "  if(hr>=21):\n",
        "    print(f\"Good Night,it is {hr-12} P.M\")\n",
        "  elif(hr>=16):\n",
        "    print(f\"Good Evening,it is {hr-12} P.M\")\n",
        "  else:\n",
        "    print(f\"Good Afternoon,it is {hr-12} P.M\")\n",
        "elif(hr<12):\n",
        "  print(f\"Good Morning,it is {hr} A.M\")"
      ],
      "metadata": {
        "colab": {
          "base_uri": "https://localhost:8080/"
        },
        "id": "2CSSj6nB-4UN",
        "outputId": "ba14d13b-3e8f-45d6-d985-63b37f8d08ac"
      },
      "execution_count": null,
      "outputs": [
        {
          "output_type": "stream",
          "name": "stdout",
          "text": [
            "1\n",
            "Good Morning,it is 1 A.M\n"
          ]
        }
      ]
    },
    {
      "cell_type": "code",
      "source": [
        "class Sum:\n",
        "  a=\"\"\n",
        "  b=0\n",
        "obj=Sum()\n",
        "obj.a=input()\n",
        "obj.b=int(input())\n",
        "print(\"MY name is{0}and year is{1}.\".format(obj.a,obj.b-200))"
      ],
      "metadata": {
        "colab": {
          "base_uri": "https://localhost:8080/"
        },
        "id": "lHOOBrsZHZ0I",
        "outputId": "bf7387fd-2d3d-45ac-f437-ee0cfb1aedbb"
      },
      "execution_count": null,
      "outputs": [
        {
          "output_type": "stream",
          "name": "stdout",
          "text": [
            "Bharath\n",
            "2004\n",
            "MY name isBharathand year is1804.\n"
          ]
        }
      ]
    },
    {
      "cell_type": "markdown",
      "source": [
        "Single Inheritance"
      ],
      "metadata": {
        "id": "Y3YezDxRmmeV"
      }
    },
    {
      "cell_type": "code",
      "source": [
        "class Parent:\n",
        "  def car(self):\n",
        "    print(\"BMW\")\n",
        "  def tv(self):\n",
        "    print(\"LG\")\n",
        "class Child(Parent):\n",
        "  def Mobile(self):\n",
        "    print(\"Vivo\")\n",
        "  def Lap(self):\n",
        "    print(\"Hp\")\n",
        "obj1=Parent()\n",
        "obj2=Child()\n",
        "obj1.car()\n",
        "obj1.tv()\n",
        "obj2.Lap()\n",
        "obj2.Mobile()\n",
        "obj2.car()\n",
        "obj2.tv()"
      ],
      "metadata": {
        "colab": {
          "base_uri": "https://localhost:8080/"
        },
        "id": "N3EFb6HahI0K",
        "outputId": "a61f27f6-ddde-40bc-a2c7-df3a7309d8d3"
      },
      "execution_count": null,
      "outputs": [
        {
          "output_type": "stream",
          "name": "stdout",
          "text": [
            "BMW\n",
            "LG\n",
            "Hp\n",
            "Vivo\n",
            "BMW\n",
            "LG\n"
          ]
        }
      ]
    },
    {
      "cell_type": "markdown",
      "source": [
        "Multilevel Inheritance"
      ],
      "metadata": {
        "id": "hHFRSFlomqkF"
      }
    },
    {
      "cell_type": "code",
      "source": [
        "class Grand_parent:\n",
        "  def land(self):\n",
        "    print(\"Resort\")\n",
        "class Parent(Grand_parent):\n",
        "  def car(self):\n",
        "    print(\"BMW\")\n",
        "  def tv(self):\n",
        "    print(\"LG\")\n",
        "class Child(Parent):\n",
        "  def Mobile(self):\n",
        "    print(\"Vivo\")\n",
        "  def Lap(self):\n",
        "    print(\"Hp\")\n",
        "obj=Grand_parent()\n",
        "obj1=Parent()\n",
        "obj2=Child()\n",
        "obj.land()\n",
        "obj1.car()\n",
        "obj1.tv()\n",
        "obj2.Lap()\n",
        "obj2.Mobile()\n",
        "obj2.car()\n",
        "obj2.tv()\n",
        "obj2.land()"
      ],
      "metadata": {
        "colab": {
          "base_uri": "https://localhost:8080/"
        },
        "id": "YbPhmnubiFXI",
        "outputId": "bd6367fb-9f7b-43e4-caa5-5b28e113d886"
      },
      "execution_count": null,
      "outputs": [
        {
          "output_type": "stream",
          "name": "stdout",
          "text": [
            "Resort\n",
            "BMW\n",
            "LG\n",
            "Hp\n",
            "Vivo\n",
            "BMW\n",
            "LG\n",
            "Resort\n"
          ]
        }
      ]
    },
    {
      "cell_type": "markdown",
      "source": [
        "Hirerarical Inheritance"
      ],
      "metadata": {
        "id": "kstZvoH3muN6"
      }
    },
    {
      "cell_type": "code",
      "source": [
        "class Parent():\n",
        "  def car(self):\n",
        "    print(\"BMW\")\n",
        "  def tv(self):\n",
        "    print(\"LG\")\n",
        "class Brother(Parent):\n",
        "  def bike(self):\n",
        "    print(\"NS200\")\n",
        "  def watch(self):\n",
        "    print(\"Titan\")\n",
        "class Sister(Parent):\n",
        "  def mobile(self):\n",
        "    print(\"Vivo\")\n",
        "  def lap(self):\n",
        "    print(\"Hp\")\n",
        "obj1=Parent()\n",
        "obj2=Brother()\n",
        "obj3=Sister()\n",
        "obj1.car()\n",
        "obj1.tv()\n",
        "obj2.bike()\n",
        "obj2.watch()\n",
        "obj3.mobile()\n",
        "obj3.lap()\n",
        "obj2.tv()\n",
        "obj3.tv()"
      ],
      "metadata": {
        "colab": {
          "base_uri": "https://localhost:8080/"
        },
        "id": "E7mFV2_8lki1",
        "outputId": "120870f2-bf0e-42e3-d5f8-7914c9312de1"
      },
      "execution_count": null,
      "outputs": [
        {
          "output_type": "stream",
          "name": "stdout",
          "text": [
            "BMW\n",
            "LG\n",
            "NS200\n",
            "Titan\n",
            "Vivo\n",
            "Hp\n",
            "LG\n",
            "LG\n"
          ]
        }
      ]
    },
    {
      "cell_type": "markdown",
      "source": [
        "Multiple Inheritance"
      ],
      "metadata": {
        "id": "1wda03RQnE5e"
      }
    },
    {
      "cell_type": "code",
      "source": [
        "class Dad():\n",
        "  def car(self):\n",
        "    print(\"BMW\")\n",
        "  def tv(self):\n",
        "    print(\"LG\")\n",
        "class Mom():\n",
        "  def food(self):\n",
        "    print(\"Pizza\")\n",
        "class Son(Dad,Mom):\n",
        "  def bike(self):\n",
        "    print(\"NS200\")\n",
        "  def watch(self):\n",
        "    print(\"Titan\")\n",
        "obj1=Dad()\n",
        "obj2=Mom()\n",
        "obj3=Son()\n",
        "obj1.car()\n",
        "obj1.tv()\n",
        "obj2.food()\n",
        "obj3.bike()\n",
        "obj3.watch()\n",
        "obj3.tv()\n",
        "obj3.food()"
      ],
      "metadata": {
        "colab": {
          "base_uri": "https://localhost:8080/"
        },
        "id": "6TxxhC8gnIAt",
        "outputId": "0401f156-323b-42fc-ca93-b95f929edcc6"
      },
      "execution_count": null,
      "outputs": [
        {
          "output_type": "stream",
          "name": "stdout",
          "text": [
            "BMW\n",
            "LG\n",
            "Pizza\n",
            "NS200\n",
            "Titan\n",
            "LG\n",
            "Pizza\n"
          ]
        }
      ]
    },
    {
      "cell_type": "markdown",
      "source": [
        "Hybrid Inheritance"
      ],
      "metadata": {
        "id": "1cJghmZpriOC"
      }
    },
    {
      "cell_type": "code",
      "source": [
        "class Parent():\n",
        "  def land(self):\n",
        "    print(\"Resort\")\n",
        "class Parent1(Parent):\n",
        "  def car(self):\n",
        "    print(\"BMW\")\n",
        "class Parent2(Parent):\n",
        "  def tv(self):\n",
        "    print(\"LG\")\n",
        "class Child(Parent1,Parent2):\n",
        "  def toy(self):\n",
        "    print(\"Ps5\")\n",
        "obj1=Parent()\n",
        "obj2=Parent1()\n",
        "obj3=Parent2()\n",
        "obj4=Child()\n",
        "obj4.land()\n",
        "obj4.car()\n",
        "obj4.tv()"
      ],
      "metadata": {
        "colab": {
          "base_uri": "https://localhost:8080/"
        },
        "id": "aBw1eWmCp_le",
        "outputId": "c34334cc-077b-4b7e-885b-53b9c943a50d"
      },
      "execution_count": null,
      "outputs": [
        {
          "output_type": "stream",
          "name": "stdout",
          "text": [
            "Resort\n",
            "BMW\n",
            "LG\n"
          ]
        }
      ]
    },
    {
      "cell_type": "code",
      "source": [
        "balance=int(input())\n",
        "minus=int(input())\n",
        "if(minus%5==0):\n",
        "  sum=balance-minus\n",
        "  remain=sum-0.50\n",
        "  if(remain>=0):\n",
        "    print(f\"Remaining Balance : ${remain:.2f}\")\n",
        "  else:\n",
        "    print(f\"insufficient Balance : ${balance:.2f}\")\n",
        "\n"
      ],
      "metadata": {
        "colab": {
          "base_uri": "https://localhost:8080/"
        },
        "id": "QyaHQaR08IbD",
        "outputId": "4a404121-7e66-42c1-ab4f-9526072d45e4"
      },
      "execution_count": null,
      "outputs": [
        {
          "output_type": "stream",
          "name": "stdout",
          "text": [
            "100\n",
            "40\n",
            "Remaining Balance : $59.50\n"
          ]
        }
      ]
    },
    {
      "cell_type": "code",
      "source": [
        "x=int(input())\n",
        "mul=1\n",
        "for i in range(1,x+1):\n",
        "  mul=mul*i;\n",
        "print(mul)"
      ],
      "metadata": {
        "colab": {
          "base_uri": "https://localhost:8080/"
        },
        "id": "qRBLoqD-8bqy",
        "outputId": "3fed8de6-b04e-4f4f-c719-b40957c57737"
      },
      "execution_count": null,
      "outputs": [
        {
          "output_type": "stream",
          "name": "stdout",
          "text": [
            "5\n",
            "120\n"
          ]
        }
      ]
    },
    {
      "cell_type": "code",
      "source": [
        "age=int(input())\n",
        "amount=15\n",
        "if(age<12):\n",
        "  amount=8\n",
        "elif(age>=60):\n",
        "  amount=10\n",
        "print(f\"${amount}\")"
      ],
      "metadata": {
        "colab": {
          "base_uri": "https://localhost:8080/"
        },
        "id": "DTnjhQpGCeIT",
        "outputId": "0bcfc93e-8d7c-4ca2-fa3d-c5efe84797aa"
      },
      "execution_count": null,
      "outputs": [
        {
          "output_type": "stream",
          "name": "stdout",
          "text": [
            "5\n",
            "$8\n"
          ]
        }
      ]
    },
    {
      "cell_type": "code",
      "source": [
        "kg=int(input())\n",
        "m=float(input())\n",
        "bmi=kg/(m*m)\n",
        "string=\"\"\n",
        "if(bmi>=30):\n",
        "  string=\"Obese\"\n",
        "elif(bmi>=25):\n",
        "  string=\"Overweight\"\n",
        "elif(bmi>=18.5):\n",
        "  string=\"Normal weight\"\n",
        "else:\n",
        "  string=\"Underweight\"\n",
        "print(f\"BMI:{bmi:.2f} \\nCategory: {string}\")"
      ],
      "metadata": {
        "colab": {
          "base_uri": "https://localhost:8080/"
        },
        "id": "0oLWrf9cEZHI",
        "outputId": "4615fbde-0677-40bf-9a16-c0b8a5b96ec9"
      },
      "execution_count": null,
      "outputs": [
        {
          "output_type": "stream",
          "name": "stdout",
          "text": [
            "70\n",
            "1.75\n",
            "BMI:22.86 \n",
            "Category: Normal weight\n"
          ]
        }
      ]
    },
    {
      "cell_type": "code",
      "source": [
        "n=int(input())\n",
        "for i in range(n):\n",
        "  for j in  range(n):\n",
        "    print(\"*\",end=\" \")\n",
        "  print()"
      ],
      "metadata": {
        "colab": {
          "base_uri": "https://localhost:8080/"
        },
        "id": "ePmEs73MJPaD",
        "outputId": "ad29e773-b445-430f-be56-57233e03f915"
      },
      "execution_count": null,
      "outputs": [
        {
          "output_type": "stream",
          "name": "stdout",
          "text": [
            "5\n",
            "* * * * * \n",
            "* * * * * \n",
            "* * * * * \n",
            "* * * * * \n",
            "* * * * * \n"
          ]
        }
      ]
    },
    {
      "cell_type": "code",
      "source": [
        "n=int(input())\n",
        "for i in range(n):\n",
        "  for j in  range(i+1):\n",
        "    print(\"*\",end=\" \")\n",
        "  print()"
      ],
      "metadata": {
        "id": "LY-3O3yEMd5d",
        "colab": {
          "base_uri": "https://localhost:8080/"
        },
        "outputId": "8b82461b-baa7-4e61-d5ce-3fad18e25aab"
      },
      "execution_count": null,
      "outputs": [
        {
          "output_type": "stream",
          "name": "stdout",
          "text": [
            "5\n",
            "* \n",
            "* * \n",
            "* * * \n",
            "* * * * \n",
            "* * * * * \n"
          ]
        }
      ]
    },
    {
      "cell_type": "code",
      "source": [
        "string=input()\n",
        "n=int(string)\n",
        "temp=n\n",
        "x=0\n",
        "arm=0\n",
        "l=len(string)\n",
        "while(n!=0):\n",
        "    x=(n%10)\n",
        "    arm=(x**l)+arm\n",
        "    n//=10\n",
        "if(arm==temp):\n",
        "    print(\"Armstrong Number\")\n",
        "else:\n",
        "    print(\"Not an Armstrong Number\")"
      ],
      "metadata": {
        "colab": {
          "base_uri": "https://localhost:8080/"
        },
        "id": "2G-9n1rQED2w",
        "outputId": "400d8a1f-70f6-4442-b845-c0e4c52fa04f"
      },
      "execution_count": 2,
      "outputs": [
        {
          "output_type": "stream",
          "name": "stdout",
          "text": [
            "143\n",
            "Not an Armstrong Number\n"
          ]
        }
      ]
    }
  ]
}